{
 "cells": [
  {
   "cell_type": "markdown",
   "id": "a142f3d4",
   "metadata": {},
   "source": [
    "# Circular Linked List \n",
    "\n",
    "\n",
    " It is a type of linked list in which every node is conected to each other,in such a way that it form a circle .\n",
    " \n",
    " 1. Circlular link list  is a singly linked \n",
    " 2. Circlar link list is a doubliy linked list \n",
    "  \n",
    "  \n",
    "      Operations :\n",
    "       \n",
    "                   1. Insertion \n",
    "                   \n",
    "                           * At the beginig\n",
    "                           * At the end \n",
    "                           * At the middle \n",
    "                           \n",
    "                           \n",
    "                   2. Deletion\n",
    "                   \n",
    "                           * At the beginig\n",
    "                           * At the end \n",
    "                           * At the middle / By value \n",
    "                           \n",
    "                   3. Traversal \n",
    "                   \n",
    "                   \n",
    " \n",
    " \n",
    " "
   ]
  },
  {
   "cell_type": "code",
   "execution_count": null,
   "id": "c86ad32f",
   "metadata": {},
   "outputs": [],
   "source": [
    "# Program for Node creation \n",
    "\n",
    "class Node:\n",
    "    def __init__(self,data):\n",
    "        self.data=data\n",
    "        self.ref\n",
    "\n",
    "        \n",
    "# Program for Circular Singly Linked list Creation \n",
    "\n",
    "class CLL:\n",
    "    def __init__(self,head):\n",
    "        self.head=None\n",
    "        \n",
    "        \n",
    "        # Traversal operation program\n",
    "        \n",
    "        def PLL(self):\n",
    "            if self.head is None :\n",
    "                print(\"CLL is empty\")\n",
    "            else:\n",
    "                n=self.head\n",
    "                while n.ref is not self.head:\n",
    "                    print(n.data)\n",
    "                    n=n.ref\n",
    "        def insert_empty(self,data):\n",
    "            if self.head is None:\n",
    "                new_node=Node(data)\n",
    "                new_node.ref=new_node\n",
    "                self.head=new_node\n",
    "                \n",
    "# driver code \n",
    "\n",
    "obj=CLL()\n",
    "obj.insert_empty(20)\n",
    "obj.PLL()\n",
    "                    "
   ]
  },
  {
   "cell_type": "code",
   "execution_count": null,
   "id": "cc0ffa2a",
   "metadata": {},
   "outputs": [],
   "source": []
  }
 ],
 "metadata": {
  "kernelspec": {
   "display_name": "Python 3 (ipykernel)",
   "language": "python",
   "name": "python3"
  },
  "language_info": {
   "codemirror_mode": {
    "name": "ipython",
    "version": 3
   },
   "file_extension": ".py",
   "mimetype": "text/x-python",
   "name": "python",
   "nbconvert_exporter": "python",
   "pygments_lexer": "ipython3",
   "version": "3.9.6"
  }
 },
 "nbformat": 4,
 "nbformat_minor": 5
}

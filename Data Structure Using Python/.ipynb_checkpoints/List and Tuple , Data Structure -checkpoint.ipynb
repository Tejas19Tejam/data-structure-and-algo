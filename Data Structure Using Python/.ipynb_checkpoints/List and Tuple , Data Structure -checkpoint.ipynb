{
 "cells": [
  {
   "cell_type": "markdown",
   "id": "401cb0e5",
   "metadata": {},
   "source": [
    "# Data Structures \n",
    "\n",
    "Built in Data Structures :\n",
    "        \n",
    "        1. List \n",
    "        2. Tuple\n",
    "        3. Set \n",
    "        4. Dictionary \n",
    "        \n",
    "      \n",
    "User Define Data Structure :\n",
    "\n",
    "        1. Stack \n",
    "        2. Queue \n",
    "        3. Linked List \n",
    "        4. Tree \n",
    "        5. Graph \n",
    "        \n",
    "        \n",
    "        \n",
    "# 1 . List :\n",
    "\n",
    "     List is the collection of zero or many elements seperated by commase enclosed within the square brakates .\n",
    "     \n",
    "     Propertise of List Data Type :\n",
    "      \n",
    "             1. list can strore data of different data types \n",
    "             2. List are ordered you , can access list elements using indexing \n",
    "             3. Two list with different order are not same\n",
    "             4. You can use negative indexing to print the elements of list \n",
    "             5. List can be nested u can have list inside the list \n",
    "             6. list are mutable (after creating a list u can modify that )\n",
    "             7. list are dynamic (when we add elements it will grow and when we remove elements it will shrink )\n",
    "             \n"
   ]
  },
  {
   "cell_type": "code",
   "execution_count": 15,
   "id": "bb998fb2",
   "metadata": {},
   "outputs": [
    {
     "name": "stdout",
     "output_type": "stream",
     "text": [
      "[1, 2, 'Data', 56.9, 789, True]\n",
      "Element present at 2nd index is  3\n",
      "False\n",
      "You can use negative indexing to print the elements of list  134\n",
      "You can use negative indexing to print the elements of list  True\n",
      "You can use negative indexing to print the elements of list  56.89\n",
      "<class 'list'>\n",
      "[56, 78, 34]\n",
      "90\n",
      "[6, 7, 8, 9, 3, 2, 564]\n",
      "[6, 7, 9, 3, 2, 564]\n"
     ]
    }
   ],
   "source": [
    "# Example of List :\n",
    "\n",
    "# list can strore data of different data types\n",
    "\n",
    "list1=[1,2,\"Data\",56.90,789,True]\n",
    "print(list1)\n",
    "\n",
    "# List are ordered can access list elements using indexing \n",
    "\n",
    "list2=[1,2,3,4,5,6,7,8]\n",
    "print(\"Element present at 2nd index is \",list2[2])\n",
    "\n",
    "# Two list with different order are not same\n",
    "\n",
    "list3 =[6,7,8,9,0]\n",
    "list4=[7,6,9,8,0]\n",
    "\n",
    "print(list3==list4)\n",
    "\n",
    "# You can use negative indexing to print the elements of list \n",
    "\n",
    "list5=[\"sundar\",450,56.89,True,78+56]\n",
    "print(\"You can use negative indexing to print the elements of list \",list5[-1])\n",
    "print(\"You can use negative indexing to print the elements of list \",list5[-2])\n",
    "print(\"You can use negative indexing to print the elements of list \",list5[-3])\n",
    "\n",
    "# List can be nested u can have list inside the list \n",
    "\n",
    "list6=[23,[56,78,34],90,100,674]\n",
    "print(type(list6))\n",
    "print(list6[1])\n",
    "print(list6[2])\n",
    "\n",
    "\n",
    "# list are mutable (after creating a list u can modify that )\n",
    "\n",
    "list7=[6,7,8,9,3,2]\n",
    "list7.append(564)\n",
    "print(list7)\n",
    "# list7.pop(enter index)\n",
    "list7.pop(2)\n",
    "print(list7)\n",
    "\n",
    "\n"
   ]
  },
  {
   "cell_type": "markdown",
   "id": "b50bf9e4",
   "metadata": {},
   "source": [
    "# 2. Tuples :\n",
    "\n",
    "    Tuples are stores the collections of different types of data , tuples are comma seperated elements enclosed within the paranthesys . (also the value seperated by commase is tuple)\n",
    "    \n",
    "    Propertise of Tuple Data Type :\n",
    "            \n",
    "            1. the value seperated by commase is tuple\n",
    "            2. tuple can strore data of different data types \n",
    "            3. \n",
    "    \n",
    "\n"
   ]
  },
  {
   "cell_type": "code",
   "execution_count": 18,
   "id": "ab6607da",
   "metadata": {},
   "outputs": [
    {
     "name": "stdout",
     "output_type": "stream",
     "text": [
      "(1, 2, 'saam', 34.9, True)\n",
      "(1, 2, 'krishna', 67.9)\n",
      "Type of tuple 2 is  <class 'tuple'>\n"
     ]
    }
   ],
   "source": [
    "# Examples of tuple \n",
    "\n",
    "# 1. the value seperated by commase is tuple\n",
    "\n",
    "tup1=(1,2,\"saam\",34.90,True)\n",
    "print(tup1)\n",
    "\n",
    "tup2=1,2,\"krishna\",67.90\n",
    "print(tup2)\n",
    "print(\"Type of tuple 2 is \",type(tup2))"
   ]
  },
  {
   "cell_type": "code",
   "execution_count": null,
   "id": "c0cff60e",
   "metadata": {},
   "outputs": [],
   "source": []
  }
 ],
 "metadata": {
  "kernelspec": {
   "display_name": "Python 3 (ipykernel)",
   "language": "python",
   "name": "python3"
  },
  "language_info": {
   "codemirror_mode": {
    "name": "ipython",
    "version": 3
   },
   "file_extension": ".py",
   "mimetype": "text/x-python",
   "name": "python",
   "nbconvert_exporter": "python",
   "pygments_lexer": "ipython3",
   "version": "3.9.6"
  }
 },
 "nbformat": 4,
 "nbformat_minor": 5
}
